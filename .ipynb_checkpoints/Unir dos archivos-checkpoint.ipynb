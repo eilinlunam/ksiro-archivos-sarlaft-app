{
 "cells": [
  {
   "cell_type": "code",
   "execution_count": 18,
   "id": "39b3a488",
   "metadata": {},
   "outputs": [
    {
     "data": {
      "application/vnd.jupyter.widget-view+json": {
       "model_id": "0d4e2fcad1e24c5981fb3c2f31c17881",
       "version_major": 2,
       "version_minor": 0
      },
      "text/plain": [
       "HTML(value=\"<p><span style='font-size:16px'><span style='font-family:Georgia,serif'>Ingrese el archivo (EXCEL)…"
      ]
     },
     "metadata": {},
     "output_type": "display_data"
    },
    {
     "data": {
      "application/vnd.jupyter.widget-view+json": {
       "model_id": "3cd1492f14794fa9bfdc93d3fb420bf7",
       "version_major": 2,
       "version_minor": 0
      },
      "text/plain": [
       "FileChooser(path='C:\\Users\\eilin\\OneDrive\\Documentos\\ksiro-archivos-sarlaft-app', filename='', title='', show_…"
      ]
     },
     "metadata": {},
     "output_type": "display_data"
    },
    {
     "data": {
      "application/vnd.jupyter.widget-view+json": {
       "model_id": "f34a31389da94bbe870bf56d6a83477d",
       "version_major": 2,
       "version_minor": 0
      },
      "text/plain": [
       "HTML(value=\"<p><span style='font-size:16px'><span style='font-family:Georgia,serif'>Ingrese el archivo (EXCEL)…"
      ]
     },
     "metadata": {},
     "output_type": "display_data"
    },
    {
     "data": {
      "application/vnd.jupyter.widget-view+json": {
       "model_id": "e2f2fa839bc048de83d026ba792bb7f2",
       "version_major": 2,
       "version_minor": 0
      },
      "text/plain": [
       "FileChooser(path='C:\\Users\\eilin\\OneDrive\\Documentos\\ksiro-archivos-sarlaft-app', filename='', title='', show_…"
      ]
     },
     "metadata": {},
     "output_type": "display_data"
    },
    {
     "data": {
      "application/vnd.jupyter.widget-view+json": {
       "model_id": "a6ba089b74294fe5b8310fa15ec8192a",
       "version_major": 2,
       "version_minor": 0
      },
      "text/plain": [
       "Box(children=(Button(button_style='info', description='CALCULAR', layout=Layout(width='60%'), style=ButtonStyl…"
      ]
     },
     "metadata": {},
     "output_type": "display_data"
    },
    {
     "data": {
      "application/vnd.jupyter.widget-view+json": {
       "model_id": "b11e00a948d14803b16b497e8224bccc",
       "version_major": 2,
       "version_minor": 0
      },
      "text/plain": [
       "Output()"
      ]
     },
     "metadata": {},
     "output_type": "display_data"
    }
   ],
   "source": [
    "from app_formulario import App1\n",
    "from app import save_excel\n",
    "from IPython.display import FileLink\n",
    "MR = App1()"
   ]
  },
  {
   "cell_type": "code",
   "execution_count": 19,
   "id": "a3a7025c",
   "metadata": {},
   "outputs": [
    {
     "name": "stdout",
     "output_type": "stream",
     "text": [
      "Guardado\n"
     ]
    }
   ],
   "source": [
    "import pandas as pd\n",
    "\n",
    "file1 = r\"C:\\Users\\eilin\\OneDrive\\Documentos\\ksiro-archivos-sarlaft-app\\ARCHIVOS5\\Resultados\\T-Ene24 Afroamericana OPA.xlsx\"\n",
    "file2 = r\"C:\\Users\\eilin\\OneDrive\\Documentos\\ksiro-archivos-sarlaft-app\\ARCHIVOS6\\Resultados\\T-Ene24 Visionamos.xlsx\"\n",
    "\n",
    "f1 = pd.read_excel(file1)\n",
    "f2 = pd.read_excel(file2)\n",
    "\n",
    "f1[\"tipoBD\"] = \"OPA\"\n",
    "f2[\"tipoBD\"] = \"VISIONAMOS\"\n",
    "\n",
    "df = pd.concat([f1, f2])\n",
    "df = df.sort_values(by=[\"CEDULA\", \"Fecha\"])\n",
    "\n",
    "filepath11 = \"BDresultante.xlsx\"\n",
    "save_excel(df, filepath11, \"Transacciones\")\n",
    "print(\"Guardado\")"
   ]
  }
 ],
 "metadata": {
  "kernelspec": {
   "display_name": "Python 3 (ipykernel)",
   "language": "python",
   "name": "python3"
  },
  "language_info": {
   "codemirror_mode": {
    "name": "ipython",
    "version": 3
   },
   "file_extension": ".py",
   "mimetype": "text/x-python",
   "name": "python",
   "nbconvert_exporter": "python",
   "pygments_lexer": "ipython3",
   "version": "3.9.13"
  }
 },
 "nbformat": 4,
 "nbformat_minor": 5
}
